{
 "cells": [
  {
   "attachments": {},
   "cell_type": "markdown",
   "id": "520226b4",
   "metadata": {},
   "source": [
    "1. Что такое OR, CTOR и CTR? как они высчитываются?\n",
    "2. Что такое сегментация аудитории? По каким параметрам можно сегментировать аудитрию?\n",
    "3. Какие метрики можно использовать для оценки успешности рекламной кампании в email и мессенджерах?\n",
    "\n",
    "практические \n",
    "\n",
    "1. Указать количество уникальных пользователей в базе рассылки; \n",
    "уникальных пользователей, которые открыли хотя бы 1 письмо; \n",
    "которые перешли хотя бы из 1 письма\"\n",
    "2. Указать средний OR, CTR\n",
    "3. Указать, сколько в среднем Open приходится на одного пользователя.\n",
    "4. Добавить в Data столбец \"Count_of_contact\", в котором будет указано сумма Open по этому пользователю.\n",
    "** Доп. вопросы:\n",
    "\n",
    "1. Посчитай количество врачей получивших 1-2 контакта, 3-10 контактов, 11 и более контактов. Визуализируй результат. О чем он может нам говорить?\n",
    "2. Как выглядел бы код на пайтон для получения ответа на вопрос 3\n",
    "3. Как выглядел бы sql запрос для получения ответа на вопрос 3\n"
   ]
  },
  {
   "cell_type": "markdown",
   "id": "145d2c8d",
   "metadata": {},
   "source": [
    "Что такое OR, CTOR и CTR? как они высчитываются?\n",
    "\n",
    "### OR (Open Rate) — коэффициент открытий\n",
    "\n",
    "Показывает процент получателей, которые открыли письмо от общего числа доставленных писем.\n",
    "\n",
    "### CTOR (Click-to-Open Rate) — коэффициент кликов к открытиям\n",
    "\n",
    "Отражает процент получателей, которые кликнули по ссылке в письме среди тех, кто его открыл.\n",
    "\n",
    "### CTR (Click-Through Rate) — коэффициент кликов\n",
    "\n",
    "Показывает процент пользователей, которые кликнули по ссылке в письме, от общего числа доставленных писем.\n"
   ]
  },
  {
   "cell_type": "markdown",
   "id": "99d6cc30",
   "metadata": {},
   "source": [
    "### Что такое сегментация аудитории? По каким параметрам можно сегментировать аудитрию?\n",
    "\n",
    "Сегментация аудитории — это процесс разделения целевой аудитории на группы (сегменты) по определённым критериям, чтобы сделать маркетинговые коммуникации более персонализированными и эффективными.\n",
    "\n",
    "Аудиторию можно сегментировать по демографическим, географическим, психографическим и поведенческим признакам."
   ]
  },
  {
   "cell_type": "markdown",
   "id": "7ea4dc8d",
   "metadata": {},
   "source": [
    "### Какие метрики можно использовать для оценки успешности рекламной кампании в email и мессенджерах?\n",
    "\n",
    "Все выше перечисленные, а так же\n",
    "\n",
    "Метрики для мессенджеров\n",
    "\n",
    "Доставляемость сообщений\n",
    "Сколько сообщений было доставлено пользователям.\n",
    "\n",
    "Открываемость сообщений\n",
    "Аналог OR в email: сколько людей открыло сообщение.\n",
    "\n",
    "Ответы (Response Rate)\n",
    "Сколько людей ответило на сообщение.\n",
    "\n",
    "Вовлечённость (Engagement Rate)\n",
    "Как активно пользователи взаимодействуют с ботом или контентом.\n",
    "\n",
    "Отписки (Unsubscribe Rate)\n",
    "\n",
    "Конверсии (Conversion Rate)"
   ]
  },
  {
   "cell_type": "code",
   "execution_count": 1,
   "id": "0b1e076d",
   "metadata": {},
   "outputs": [],
   "source": [
    "import pandas as pd\n",
    "import matplotlib.pyplot as plt\n",
    "import seaborn as sns\n",
    "\n"
   ]
  },
  {
   "cell_type": "code",
   "execution_count": 2,
   "id": "25c3cea1",
   "metadata": {},
   "outputs": [
    {
     "name": "stdout",
     "output_type": "stream",
     "text": [
      "Requirement already satisfied: openpyxl in ./Desktop/anaconda3/envs/da_practicum_env/lib/python3.9/site-packages (3.1.5)\n",
      "Requirement already satisfied: et-xmlfile in ./Desktop/anaconda3/envs/da_practicum_env/lib/python3.9/site-packages (from openpyxl) (2.0.0)\n",
      "Note: you may need to restart the kernel to use updated packages.\n"
     ]
    }
   ],
   "source": [
    "pip install openpyxl\n"
   ]
  },
  {
   "cell_type": "code",
   "execution_count": 3,
   "id": "d2ca1344",
   "metadata": {},
   "outputs": [],
   "source": [
    "data = pd.read_excel('/Users/endybuligori/Downloads/Тестовое Аналитик ОСМ.xlsx', sheet_name= 'Data' ,engine=\"openpyxl\")"
   ]
  },
  {
   "cell_type": "code",
   "execution_count": 4,
   "id": "57d55861",
   "metadata": {},
   "outputs": [
    {
     "name": "stdout",
     "output_type": "stream",
     "text": [
      "<class 'pandas.core.frame.DataFrame'>\n",
      "RangeIndex: 4999 entries, 0 to 4998\n",
      "Data columns (total 6 columns):\n",
      " #   Column     Non-Null Count  Dtype         \n",
      "---  ------     --------------  -----         \n",
      " 0   User_ID    4999 non-null   object        \n",
      " 1   Sent_date  4999 non-null   datetime64[ns]\n",
      " 2    Sent      4999 non-null   int64         \n",
      " 3   Deliver    4999 non-null   int64         \n",
      " 4   Open       4999 non-null   int64         \n",
      " 5   Click      4999 non-null   int64         \n",
      "dtypes: datetime64[ns](1), int64(4), object(1)\n",
      "memory usage: 234.5+ KB\n"
     ]
    }
   ],
   "source": [
    "data.info()"
   ]
  },
  {
   "cell_type": "code",
   "execution_count": 5,
   "id": "c75dd7a3",
   "metadata": {},
   "outputs": [
    {
     "data": {
      "text/html": [
       "<div>\n",
       "<style scoped>\n",
       "    .dataframe tbody tr th:only-of-type {\n",
       "        vertical-align: middle;\n",
       "    }\n",
       "\n",
       "    .dataframe tbody tr th {\n",
       "        vertical-align: top;\n",
       "    }\n",
       "\n",
       "    .dataframe thead th {\n",
       "        text-align: right;\n",
       "    }\n",
       "</style>\n",
       "<table border=\"1\" class=\"dataframe\">\n",
       "  <thead>\n",
       "    <tr style=\"text-align: right;\">\n",
       "      <th></th>\n",
       "      <th>User_ID</th>\n",
       "      <th>Sent_date</th>\n",
       "      <th>Sent</th>\n",
       "      <th>Deliver</th>\n",
       "      <th>Open</th>\n",
       "      <th>Click</th>\n",
       "    </tr>\n",
       "  </thead>\n",
       "  <tbody>\n",
       "    <tr>\n",
       "      <th>0</th>\n",
       "      <td>6c6c49z9</td>\n",
       "      <td>2024-01-10</td>\n",
       "      <td>1</td>\n",
       "      <td>1</td>\n",
       "      <td>0</td>\n",
       "      <td>0</td>\n",
       "    </tr>\n",
       "    <tr>\n",
       "      <th>1</th>\n",
       "      <td>1460611e</td>\n",
       "      <td>2024-01-10</td>\n",
       "      <td>1</td>\n",
       "      <td>1</td>\n",
       "      <td>0</td>\n",
       "      <td>0</td>\n",
       "    </tr>\n",
       "    <tr>\n",
       "      <th>2</th>\n",
       "      <td>ze1u8045</td>\n",
       "      <td>2024-01-11</td>\n",
       "      <td>1</td>\n",
       "      <td>1</td>\n",
       "      <td>0</td>\n",
       "      <td>0</td>\n",
       "    </tr>\n",
       "    <tr>\n",
       "      <th>3</th>\n",
       "      <td>410e3668</td>\n",
       "      <td>2024-01-11</td>\n",
       "      <td>1</td>\n",
       "      <td>1</td>\n",
       "      <td>0</td>\n",
       "      <td>0</td>\n",
       "    </tr>\n",
       "    <tr>\n",
       "      <th>4</th>\n",
       "      <td>z4d813du</td>\n",
       "      <td>2024-01-11</td>\n",
       "      <td>1</td>\n",
       "      <td>1</td>\n",
       "      <td>0</td>\n",
       "      <td>0</td>\n",
       "    </tr>\n",
       "    <tr>\n",
       "      <th>5</th>\n",
       "      <td>u76zd5cz</td>\n",
       "      <td>2024-01-11</td>\n",
       "      <td>1</td>\n",
       "      <td>1</td>\n",
       "      <td>0</td>\n",
       "      <td>0</td>\n",
       "    </tr>\n",
       "    <tr>\n",
       "      <th>6</th>\n",
       "      <td>7eeu5uk4</td>\n",
       "      <td>2024-01-13</td>\n",
       "      <td>1</td>\n",
       "      <td>1</td>\n",
       "      <td>0</td>\n",
       "      <td>0</td>\n",
       "    </tr>\n",
       "    <tr>\n",
       "      <th>7</th>\n",
       "      <td>c5z5dce0</td>\n",
       "      <td>2024-01-13</td>\n",
       "      <td>1</td>\n",
       "      <td>1</td>\n",
       "      <td>0</td>\n",
       "      <td>0</td>\n",
       "    </tr>\n",
       "    <tr>\n",
       "      <th>8</th>\n",
       "      <td>11e39ed8</td>\n",
       "      <td>2024-01-17</td>\n",
       "      <td>1</td>\n",
       "      <td>1</td>\n",
       "      <td>0</td>\n",
       "      <td>0</td>\n",
       "    </tr>\n",
       "    <tr>\n",
       "      <th>9</th>\n",
       "      <td>kucz9507</td>\n",
       "      <td>2024-01-18</td>\n",
       "      <td>1</td>\n",
       "      <td>1</td>\n",
       "      <td>0</td>\n",
       "      <td>0</td>\n",
       "    </tr>\n",
       "  </tbody>\n",
       "</table>\n",
       "</div>"
      ],
      "text/plain": [
       "    User_ID  Sent_date   Sent  Deliver  Open  Click\n",
       "0  6c6c49z9 2024-01-10      1        1     0      0\n",
       "1  1460611e 2024-01-10      1        1     0      0\n",
       "2  ze1u8045 2024-01-11      1        1     0      0\n",
       "3  410e3668 2024-01-11      1        1     0      0\n",
       "4  z4d813du 2024-01-11      1        1     0      0\n",
       "5  u76zd5cz 2024-01-11      1        1     0      0\n",
       "6  7eeu5uk4 2024-01-13      1        1     0      0\n",
       "7  c5z5dce0 2024-01-13      1        1     0      0\n",
       "8  11e39ed8 2024-01-17      1        1     0      0\n",
       "9  kucz9507 2024-01-18      1        1     0      0"
      ]
     },
     "execution_count": 5,
     "metadata": {},
     "output_type": "execute_result"
    }
   ],
   "source": [
    "data.head(10)"
   ]
  },
  {
   "cell_type": "code",
   "execution_count": 6,
   "id": "5b24cb55",
   "metadata": {},
   "outputs": [
    {
     "data": {
      "text/plain": [
       "1026"
      ]
     },
     "execution_count": 6,
     "metadata": {},
     "output_type": "execute_result"
    }
   ],
   "source": [
    "data.duplicated().sum()"
   ]
  },
  {
   "cell_type": "code",
   "execution_count": 7,
   "id": "94352816",
   "metadata": {},
   "outputs": [
    {
     "data": {
      "text/html": [
       "<div>\n",
       "<style scoped>\n",
       "    .dataframe tbody tr th:only-of-type {\n",
       "        vertical-align: middle;\n",
       "    }\n",
       "\n",
       "    .dataframe tbody tr th {\n",
       "        vertical-align: top;\n",
       "    }\n",
       "\n",
       "    .dataframe thead th {\n",
       "        text-align: right;\n",
       "    }\n",
       "</style>\n",
       "<table border=\"1\" class=\"dataframe\">\n",
       "  <thead>\n",
       "    <tr style=\"text-align: right;\">\n",
       "      <th></th>\n",
       "      <th>User_ID</th>\n",
       "      <th>Sent_date</th>\n",
       "      <th>Sent</th>\n",
       "      <th>Deliver</th>\n",
       "      <th>Open</th>\n",
       "      <th>Click</th>\n",
       "    </tr>\n",
       "  </thead>\n",
       "  <tbody>\n",
       "    <tr>\n",
       "      <th>13</th>\n",
       "      <td>kucz9507</td>\n",
       "      <td>2024-01-18</td>\n",
       "      <td>1</td>\n",
       "      <td>1</td>\n",
       "      <td>0</td>\n",
       "      <td>0</td>\n",
       "    </tr>\n",
       "    <tr>\n",
       "      <th>40</th>\n",
       "      <td>CRMid003</td>\n",
       "      <td>2024-01-23</td>\n",
       "      <td>1</td>\n",
       "      <td>1</td>\n",
       "      <td>0</td>\n",
       "      <td>0</td>\n",
       "    </tr>\n",
       "    <tr>\n",
       "      <th>45</th>\n",
       "      <td>CRMid007</td>\n",
       "      <td>2024-01-23</td>\n",
       "      <td>1</td>\n",
       "      <td>1</td>\n",
       "      <td>0</td>\n",
       "      <td>0</td>\n",
       "    </tr>\n",
       "    <tr>\n",
       "      <th>48</th>\n",
       "      <td>CRMid003</td>\n",
       "      <td>2024-01-23</td>\n",
       "      <td>1</td>\n",
       "      <td>1</td>\n",
       "      <td>0</td>\n",
       "      <td>0</td>\n",
       "    </tr>\n",
       "    <tr>\n",
       "      <th>49</th>\n",
       "      <td>CRMid000</td>\n",
       "      <td>2024-01-23</td>\n",
       "      <td>1</td>\n",
       "      <td>1</td>\n",
       "      <td>0</td>\n",
       "      <td>0</td>\n",
       "    </tr>\n",
       "    <tr>\n",
       "      <th>...</th>\n",
       "      <td>...</td>\n",
       "      <td>...</td>\n",
       "      <td>...</td>\n",
       "      <td>...</td>\n",
       "      <td>...</td>\n",
       "      <td>...</td>\n",
       "    </tr>\n",
       "    <tr>\n",
       "      <th>4984</th>\n",
       "      <td>CRMid000</td>\n",
       "      <td>2024-03-27</td>\n",
       "      <td>1</td>\n",
       "      <td>1</td>\n",
       "      <td>0</td>\n",
       "      <td>0</td>\n",
       "    </tr>\n",
       "    <tr>\n",
       "      <th>4989</th>\n",
       "      <td>CRMid005</td>\n",
       "      <td>2024-03-27</td>\n",
       "      <td>1</td>\n",
       "      <td>1</td>\n",
       "      <td>0</td>\n",
       "      <td>0</td>\n",
       "    </tr>\n",
       "    <tr>\n",
       "      <th>4992</th>\n",
       "      <td>CRMid004</td>\n",
       "      <td>2024-03-27</td>\n",
       "      <td>1</td>\n",
       "      <td>1</td>\n",
       "      <td>0</td>\n",
       "      <td>0</td>\n",
       "    </tr>\n",
       "    <tr>\n",
       "      <th>4993</th>\n",
       "      <td>CRMid004</td>\n",
       "      <td>2024-03-27</td>\n",
       "      <td>1</td>\n",
       "      <td>1</td>\n",
       "      <td>0</td>\n",
       "      <td>0</td>\n",
       "    </tr>\n",
       "    <tr>\n",
       "      <th>4995</th>\n",
       "      <td>CRMid005</td>\n",
       "      <td>2024-03-27</td>\n",
       "      <td>1</td>\n",
       "      <td>1</td>\n",
       "      <td>0</td>\n",
       "      <td>0</td>\n",
       "    </tr>\n",
       "  </tbody>\n",
       "</table>\n",
       "<p>1026 rows × 6 columns</p>\n",
       "</div>"
      ],
      "text/plain": [
       "       User_ID  Sent_date   Sent  Deliver  Open  Click\n",
       "13    kucz9507 2024-01-18      1        1     0      0\n",
       "40    CRMid003 2024-01-23      1        1     0      0\n",
       "45    CRMid007 2024-01-23      1        1     0      0\n",
       "48    CRMid003 2024-01-23      1        1     0      0\n",
       "49    CRMid000 2024-01-23      1        1     0      0\n",
       "...        ...        ...    ...      ...   ...    ...\n",
       "4984  CRMid000 2024-03-27      1        1     0      0\n",
       "4989  CRMid005 2024-03-27      1        1     0      0\n",
       "4992  CRMid004 2024-03-27      1        1     0      0\n",
       "4993  CRMid004 2024-03-27      1        1     0      0\n",
       "4995  CRMid005 2024-03-27      1        1     0      0\n",
       "\n",
       "[1026 rows x 6 columns]"
      ]
     },
     "execution_count": 7,
     "metadata": {},
     "output_type": "execute_result"
    }
   ],
   "source": [
    "data[data.duplicated()]"
   ]
  },
  {
   "cell_type": "code",
   "execution_count": 8,
   "id": "d0fa878a",
   "metadata": {},
   "outputs": [],
   "source": [
    "data.columns = data.columns.str.lower()"
   ]
  },
  {
   "cell_type": "code",
   "execution_count": 9,
   "id": "cecf68c6",
   "metadata": {},
   "outputs": [],
   "source": [
    "data = data.rename(columns = {' sent':'sent'})"
   ]
  },
  {
   "cell_type": "code",
   "execution_count": 10,
   "id": "6a566f80",
   "metadata": {},
   "outputs": [
    {
     "name": "stdout",
     "output_type": "stream",
     "text": [
      "<class 'pandas.core.frame.DataFrame'>\n",
      "RangeIndex: 4999 entries, 0 to 4998\n",
      "Data columns (total 6 columns):\n",
      " #   Column     Non-Null Count  Dtype         \n",
      "---  ------     --------------  -----         \n",
      " 0   user_id    4999 non-null   object        \n",
      " 1   sent_date  4999 non-null   datetime64[ns]\n",
      " 2   sent       4999 non-null   int64         \n",
      " 3   deliver    4999 non-null   int64         \n",
      " 4   open       4999 non-null   int64         \n",
      " 5   click      4999 non-null   int64         \n",
      "dtypes: datetime64[ns](1), int64(4), object(1)\n",
      "memory usage: 234.5+ KB\n"
     ]
    }
   ],
   "source": [
    "data.info()"
   ]
  },
  {
   "cell_type": "markdown",
   "id": "203111ab",
   "metadata": {},
   "source": [
    "пропусков нет "
   ]
  },
  {
   "cell_type": "markdown",
   "id": "d45d102e",
   "metadata": {},
   "source": [
    "# Указать количество уникальных пользователей в базе рассылки; уникальных пользователей, которые открыли хотя бы 1 письмо; которые перешли хотя бы из 1 письма\""
   ]
  },
  {
   "cell_type": "code",
   "execution_count": 11,
   "id": "4276b58d",
   "metadata": {},
   "outputs": [
    {
     "name": "stdout",
     "output_type": "stream",
     "text": [
      "Количество уникальных пользователей: 2883\n"
     ]
    }
   ],
   "source": [
    "print('Количество уникальных пользователей:',data['user_id'].nunique())"
   ]
  },
  {
   "cell_type": "code",
   "execution_count": 12,
   "id": "1534c869",
   "metadata": {},
   "outputs": [],
   "source": [
    "uniq_open = data.loc[data['open'] == 1, 'user_id'].nunique()"
   ]
  },
  {
   "cell_type": "code",
   "execution_count": 13,
   "id": "62e992cd",
   "metadata": {},
   "outputs": [
    {
     "name": "stdout",
     "output_type": "stream",
     "text": [
      "уникальные пользователи которые открыли хотябы 1 письмо: 388\n"
     ]
    }
   ],
   "source": [
    "print('уникальные пользователи которые открыли хотябы 1 письмо:',uniq_open)"
   ]
  },
  {
   "cell_type": "code",
   "execution_count": 14,
   "id": "0145acf3",
   "metadata": {},
   "outputs": [],
   "source": [
    "uniq_click = data.loc[data['click'] == 1, 'user_id'].nunique()"
   ]
  },
  {
   "cell_type": "code",
   "execution_count": 15,
   "id": "467bf23e",
   "metadata": {},
   "outputs": [
    {
     "name": "stdout",
     "output_type": "stream",
     "text": [
      "уникальные пользователи которые перешли хотя бы из 1 письма: 64\n"
     ]
    }
   ],
   "source": [
    "print('уникальные пользователи которые перешли хотя бы из 1 письма:',uniq_click)"
   ]
  },
  {
   "cell_type": "code",
   "execution_count": 16,
   "id": "5afbb9cd",
   "metadata": {},
   "outputs": [],
   "source": [
    "open_data = data.loc[data['open'] == 1]"
   ]
  },
  {
   "cell_type": "code",
   "execution_count": 17,
   "id": "a007d894",
   "metadata": {},
   "outputs": [
    {
     "data": {
      "text/html": [
       "<div>\n",
       "<style scoped>\n",
       "    .dataframe tbody tr th:only-of-type {\n",
       "        vertical-align: middle;\n",
       "    }\n",
       "\n",
       "    .dataframe tbody tr th {\n",
       "        vertical-align: top;\n",
       "    }\n",
       "\n",
       "    .dataframe thead th {\n",
       "        text-align: right;\n",
       "    }\n",
       "</style>\n",
       "<table border=\"1\" class=\"dataframe\">\n",
       "  <thead>\n",
       "    <tr style=\"text-align: right;\">\n",
       "      <th></th>\n",
       "      <th>user_id</th>\n",
       "      <th>sent_date</th>\n",
       "      <th>sent</th>\n",
       "      <th>deliver</th>\n",
       "      <th>open</th>\n",
       "      <th>click</th>\n",
       "    </tr>\n",
       "  </thead>\n",
       "  <tbody>\n",
       "    <tr>\n",
       "      <th>16</th>\n",
       "      <td>1e37uz47</td>\n",
       "      <td>2024-01-23</td>\n",
       "      <td>1</td>\n",
       "      <td>1</td>\n",
       "      <td>1</td>\n",
       "      <td>0</td>\n",
       "    </tr>\n",
       "    <tr>\n",
       "      <th>17</th>\n",
       "      <td>83c8510u</td>\n",
       "      <td>2024-01-23</td>\n",
       "      <td>1</td>\n",
       "      <td>1</td>\n",
       "      <td>1</td>\n",
       "      <td>0</td>\n",
       "    </tr>\n",
       "    <tr>\n",
       "      <th>21</th>\n",
       "      <td>65d88z5e</td>\n",
       "      <td>2024-01-23</td>\n",
       "      <td>1</td>\n",
       "      <td>1</td>\n",
       "      <td>1</td>\n",
       "      <td>0</td>\n",
       "    </tr>\n",
       "    <tr>\n",
       "      <th>42</th>\n",
       "      <td>CRMid000</td>\n",
       "      <td>2024-01-23</td>\n",
       "      <td>1</td>\n",
       "      <td>1</td>\n",
       "      <td>1</td>\n",
       "      <td>0</td>\n",
       "    </tr>\n",
       "    <tr>\n",
       "      <th>47</th>\n",
       "      <td>5e35e879</td>\n",
       "      <td>2024-01-23</td>\n",
       "      <td>1</td>\n",
       "      <td>1</td>\n",
       "      <td>1</td>\n",
       "      <td>0</td>\n",
       "    </tr>\n",
       "    <tr>\n",
       "      <th>...</th>\n",
       "      <td>...</td>\n",
       "      <td>...</td>\n",
       "      <td>...</td>\n",
       "      <td>...</td>\n",
       "      <td>...</td>\n",
       "      <td>...</td>\n",
       "    </tr>\n",
       "    <tr>\n",
       "      <th>4949</th>\n",
       "      <td>uu3098e5</td>\n",
       "      <td>2024-03-27</td>\n",
       "      <td>1</td>\n",
       "      <td>1</td>\n",
       "      <td>1</td>\n",
       "      <td>0</td>\n",
       "    </tr>\n",
       "    <tr>\n",
       "      <th>4952</th>\n",
       "      <td>CRMid003</td>\n",
       "      <td>2024-03-27</td>\n",
       "      <td>1</td>\n",
       "      <td>1</td>\n",
       "      <td>1</td>\n",
       "      <td>1</td>\n",
       "    </tr>\n",
       "    <tr>\n",
       "      <th>4970</th>\n",
       "      <td>CRMid004</td>\n",
       "      <td>2024-03-27</td>\n",
       "      <td>1</td>\n",
       "      <td>1</td>\n",
       "      <td>1</td>\n",
       "      <td>0</td>\n",
       "    </tr>\n",
       "    <tr>\n",
       "      <th>4973</th>\n",
       "      <td>0149uc6z</td>\n",
       "      <td>2024-03-27</td>\n",
       "      <td>1</td>\n",
       "      <td>1</td>\n",
       "      <td>1</td>\n",
       "      <td>0</td>\n",
       "    </tr>\n",
       "    <tr>\n",
       "      <th>4975</th>\n",
       "      <td>CRMid003</td>\n",
       "      <td>2024-03-27</td>\n",
       "      <td>1</td>\n",
       "      <td>1</td>\n",
       "      <td>1</td>\n",
       "      <td>0</td>\n",
       "    </tr>\n",
       "  </tbody>\n",
       "</table>\n",
       "<p>573 rows × 6 columns</p>\n",
       "</div>"
      ],
      "text/plain": [
       "       user_id  sent_date  sent  deliver  open  click\n",
       "16    1e37uz47 2024-01-23     1        1     1      0\n",
       "17    83c8510u 2024-01-23     1        1     1      0\n",
       "21    65d88z5e 2024-01-23     1        1     1      0\n",
       "42    CRMid000 2024-01-23     1        1     1      0\n",
       "47    5e35e879 2024-01-23     1        1     1      0\n",
       "...        ...        ...   ...      ...   ...    ...\n",
       "4949  uu3098e5 2024-03-27     1        1     1      0\n",
       "4952  CRMid003 2024-03-27     1        1     1      1\n",
       "4970  CRMid004 2024-03-27     1        1     1      0\n",
       "4973  0149uc6z 2024-03-27     1        1     1      0\n",
       "4975  CRMid003 2024-03-27     1        1     1      0\n",
       "\n",
       "[573 rows x 6 columns]"
      ]
     },
     "execution_count": 17,
     "metadata": {},
     "output_type": "execute_result"
    }
   ],
   "source": [
    "open_data"
   ]
  },
  {
   "cell_type": "code",
   "execution_count": 18,
   "id": "3f570bc7",
   "metadata": {},
   "outputs": [
    {
     "data": {
      "text/plain": [
       "59"
      ]
     },
     "execution_count": 18,
     "metadata": {},
     "output_type": "execute_result"
    }
   ],
   "source": [
    "open_data.loc[open_data['click'] == 1, 'user_id'].nunique()"
   ]
  },
  {
   "cell_type": "code",
   "execution_count": 19,
   "id": "73d11819",
   "metadata": {},
   "outputs": [
    {
     "data": {
      "text/plain": [
       "array(['CRMid007', 'dz4uc7c7', '7695e3uu', '8k308kud', '4c943z9e',\n",
       "       'CRMid000', 'CRMid005'], dtype=object)"
      ]
     },
     "execution_count": 19,
     "metadata": {},
     "output_type": "execute_result"
    }
   ],
   "source": [
    "data.loc[(data['open'] == 0) & (data['click'] == 1),'user_id'].unique()"
   ]
  },
  {
   "cell_type": "markdown",
   "id": "9e056950",
   "metadata": {},
   "source": [
    "есть несколько пользователей перешедших по ссылке не открывая письма \n"
   ]
  },
  {
   "cell_type": "markdown",
   "id": "f0cbefd0",
   "metadata": {},
   "source": [
    "# 2. Указать средний OR, CTR"
   ]
  },
  {
   "cell_type": "markdown",
   "id": "6fc5ac1a",
   "metadata": {},
   "source": [
    "OR (Open Rate) — коэффициент открытий\n",
    "\n",
    "Показывает процент получателей, которые открыли письмо от общего числа доставленных писем."
   ]
  },
  {
   "cell_type": "markdown",
   "id": "08c5b050",
   "metadata": {},
   "source": [
    "посчитаем OR\n"
   ]
  },
  {
   "cell_type": "code",
   "execution_count": 20,
   "id": "eec1224e",
   "metadata": {},
   "outputs": [],
   "source": [
    "OR = ((data['open'].sum() / data['deliver'].sum()) * 100).round(2)"
   ]
  },
  {
   "cell_type": "code",
   "execution_count": 21,
   "id": "061d5f53",
   "metadata": {},
   "outputs": [
    {
     "name": "stdout",
     "output_type": "stream",
     "text": [
      "коэффициент открытий составляет 12.08 %\n"
     ]
    }
   ],
   "source": [
    "print('коэффициент открытий составляет',OR,'%')"
   ]
  },
  {
   "cell_type": "markdown",
   "id": "a8be9f14",
   "metadata": {},
   "source": [
    "CTR (Click-Through Rate) — коэффициент кликов\n",
    "\n",
    "Показывает процент пользователей, которые кликнули по ссылке в письме, от общего числа доставленных писем.\n"
   ]
  },
  {
   "cell_type": "markdown",
   "id": "37a728b7",
   "metadata": {},
   "source": [
    "Расчитаем CTR"
   ]
  },
  {
   "cell_type": "code",
   "execution_count": 22,
   "id": "e2004f57",
   "metadata": {},
   "outputs": [],
   "source": [
    "CTR = ((data['click'].sum() / data['deliver'].sum()) * 100).round(2)"
   ]
  },
  {
   "cell_type": "code",
   "execution_count": 23,
   "id": "aa8994c4",
   "metadata": {},
   "outputs": [
    {
     "name": "stdout",
     "output_type": "stream",
     "text": [
      "коэффициент кликов составляет 1.67 %\n"
     ]
    }
   ],
   "source": [
    "print('коэффициент кликов составляет',CTR,'%')"
   ]
  },
  {
   "cell_type": "markdown",
   "id": "c82f5303",
   "metadata": {},
   "source": [
    "# 3. Указать, сколько в среднем Open приходится на одного пользователя."
   ]
  },
  {
   "cell_type": "code",
   "execution_count": 24,
   "id": "24dffd8e",
   "metadata": {},
   "outputs": [],
   "source": [
    "open_to_person = (data['open'].sum()/data['user_id'].nunique()).round(2)"
   ]
  },
  {
   "cell_type": "code",
   "execution_count": 25,
   "id": "22676c4d",
   "metadata": {},
   "outputs": [
    {
     "name": "stdout",
     "output_type": "stream",
     "text": [
      "в среднем на одного пользователя приходится 0.2 открытий\n"
     ]
    }
   ],
   "source": [
    "print('в среднем на одного пользователя приходится',open_to_person,'открытий')"
   ]
  },
  {
   "cell_type": "markdown",
   "id": "c76a160a",
   "metadata": {},
   "source": [
    "Можем посчитать по другому "
   ]
  },
  {
   "cell_type": "code",
   "execution_count": 26,
   "id": "cc9f829b",
   "metadata": {},
   "outputs": [],
   "source": [
    "sum_open = data.groupby('user_id')['open'].sum()"
   ]
  },
  {
   "cell_type": "code",
   "execution_count": 27,
   "id": "86038947",
   "metadata": {},
   "outputs": [
    {
     "data": {
      "text/plain": [
       "0.1987513007284079"
      ]
     },
     "execution_count": 27,
     "metadata": {},
     "output_type": "execute_result"
    }
   ],
   "source": [
    "sum_open.mean()"
   ]
  },
  {
   "cell_type": "markdown",
   "id": "59c64bf6",
   "metadata": {},
   "source": [
    "# 4. Добавить в Data столбец \"Count_of_contact\", в котором будет указано сумма Open по этому пользователю."
   ]
  },
  {
   "cell_type": "code",
   "execution_count": 28,
   "id": "2889a021",
   "metadata": {},
   "outputs": [],
   "source": [
    "data['count_of_contact'] = data.groupby('user_id')['open'].transform('sum')"
   ]
  },
  {
   "cell_type": "code",
   "execution_count": 29,
   "id": "5e310486",
   "metadata": {},
   "outputs": [
    {
     "data": {
      "text/html": [
       "<div>\n",
       "<style scoped>\n",
       "    .dataframe tbody tr th:only-of-type {\n",
       "        vertical-align: middle;\n",
       "    }\n",
       "\n",
       "    .dataframe tbody tr th {\n",
       "        vertical-align: top;\n",
       "    }\n",
       "\n",
       "    .dataframe thead th {\n",
       "        text-align: right;\n",
       "    }\n",
       "</style>\n",
       "<table border=\"1\" class=\"dataframe\">\n",
       "  <thead>\n",
       "    <tr style=\"text-align: right;\">\n",
       "      <th></th>\n",
       "      <th>user_id</th>\n",
       "      <th>sent_date</th>\n",
       "      <th>sent</th>\n",
       "      <th>deliver</th>\n",
       "      <th>open</th>\n",
       "      <th>click</th>\n",
       "      <th>count_of_contact</th>\n",
       "    </tr>\n",
       "  </thead>\n",
       "  <tbody>\n",
       "    <tr>\n",
       "      <th>0</th>\n",
       "      <td>6c6c49z9</td>\n",
       "      <td>2024-01-10</td>\n",
       "      <td>1</td>\n",
       "      <td>1</td>\n",
       "      <td>0</td>\n",
       "      <td>0</td>\n",
       "      <td>0</td>\n",
       "    </tr>\n",
       "    <tr>\n",
       "      <th>1</th>\n",
       "      <td>1460611e</td>\n",
       "      <td>2024-01-10</td>\n",
       "      <td>1</td>\n",
       "      <td>1</td>\n",
       "      <td>0</td>\n",
       "      <td>0</td>\n",
       "      <td>0</td>\n",
       "    </tr>\n",
       "    <tr>\n",
       "      <th>2</th>\n",
       "      <td>ze1u8045</td>\n",
       "      <td>2024-01-11</td>\n",
       "      <td>1</td>\n",
       "      <td>1</td>\n",
       "      <td>0</td>\n",
       "      <td>0</td>\n",
       "      <td>0</td>\n",
       "    </tr>\n",
       "    <tr>\n",
       "      <th>3</th>\n",
       "      <td>410e3668</td>\n",
       "      <td>2024-01-11</td>\n",
       "      <td>1</td>\n",
       "      <td>1</td>\n",
       "      <td>0</td>\n",
       "      <td>0</td>\n",
       "      <td>0</td>\n",
       "    </tr>\n",
       "    <tr>\n",
       "      <th>4</th>\n",
       "      <td>z4d813du</td>\n",
       "      <td>2024-01-11</td>\n",
       "      <td>1</td>\n",
       "      <td>1</td>\n",
       "      <td>0</td>\n",
       "      <td>0</td>\n",
       "      <td>1</td>\n",
       "    </tr>\n",
       "    <tr>\n",
       "      <th>...</th>\n",
       "      <td>...</td>\n",
       "      <td>...</td>\n",
       "      <td>...</td>\n",
       "      <td>...</td>\n",
       "      <td>...</td>\n",
       "      <td>...</td>\n",
       "      <td>...</td>\n",
       "    </tr>\n",
       "    <tr>\n",
       "      <th>4994</th>\n",
       "      <td>5e00ce3c</td>\n",
       "      <td>2024-03-27</td>\n",
       "      <td>1</td>\n",
       "      <td>1</td>\n",
       "      <td>0</td>\n",
       "      <td>0</td>\n",
       "      <td>0</td>\n",
       "    </tr>\n",
       "    <tr>\n",
       "      <th>4995</th>\n",
       "      <td>CRMid005</td>\n",
       "      <td>2024-03-27</td>\n",
       "      <td>1</td>\n",
       "      <td>1</td>\n",
       "      <td>0</td>\n",
       "      <td>0</td>\n",
       "      <td>11</td>\n",
       "    </tr>\n",
       "    <tr>\n",
       "      <th>4996</th>\n",
       "      <td>d6ze4339</td>\n",
       "      <td>2024-03-29</td>\n",
       "      <td>1</td>\n",
       "      <td>1</td>\n",
       "      <td>0</td>\n",
       "      <td>0</td>\n",
       "      <td>0</td>\n",
       "    </tr>\n",
       "    <tr>\n",
       "      <th>4997</th>\n",
       "      <td>c9e4e717</td>\n",
       "      <td>2024-03-30</td>\n",
       "      <td>1</td>\n",
       "      <td>1</td>\n",
       "      <td>0</td>\n",
       "      <td>0</td>\n",
       "      <td>0</td>\n",
       "    </tr>\n",
       "    <tr>\n",
       "      <th>4998</th>\n",
       "      <td>c388686u</td>\n",
       "      <td>2024-03-30</td>\n",
       "      <td>1</td>\n",
       "      <td>1</td>\n",
       "      <td>0</td>\n",
       "      <td>0</td>\n",
       "      <td>0</td>\n",
       "    </tr>\n",
       "  </tbody>\n",
       "</table>\n",
       "<p>4999 rows × 7 columns</p>\n",
       "</div>"
      ],
      "text/plain": [
       "       user_id  sent_date  sent  deliver  open  click  count_of_contact\n",
       "0     6c6c49z9 2024-01-10     1        1     0      0                 0\n",
       "1     1460611e 2024-01-10     1        1     0      0                 0\n",
       "2     ze1u8045 2024-01-11     1        1     0      0                 0\n",
       "3     410e3668 2024-01-11     1        1     0      0                 0\n",
       "4     z4d813du 2024-01-11     1        1     0      0                 1\n",
       "...        ...        ...   ...      ...   ...    ...               ...\n",
       "4994  5e00ce3c 2024-03-27     1        1     0      0                 0\n",
       "4995  CRMid005 2024-03-27     1        1     0      0                11\n",
       "4996  d6ze4339 2024-03-29     1        1     0      0                 0\n",
       "4997  c9e4e717 2024-03-30     1        1     0      0                 0\n",
       "4998  c388686u 2024-03-30     1        1     0      0                 0\n",
       "\n",
       "[4999 rows x 7 columns]"
      ]
     },
     "execution_count": 29,
     "metadata": {},
     "output_type": "execute_result"
    }
   ],
   "source": [
    "data"
   ]
  },
  {
   "cell_type": "markdown",
   "id": "bd8486cd",
   "metadata": {},
   "source": [
    "# 5. Посчитай количество врачей получивших 1-2 контакта, 3-10 контактов, 11 и более контактов. Визуализируй результат. О чем он может нам говорить?"
   ]
  },
  {
   "cell_type": "code",
   "execution_count": 30,
   "id": "9386ce17",
   "metadata": {},
   "outputs": [],
   "source": [
    "new_data = data.loc[data['count_of_contact'] > 0]\n"
   ]
  },
  {
   "cell_type": "code",
   "execution_count": 31,
   "id": "50863079",
   "metadata": {},
   "outputs": [
    {
     "data": {
      "text/html": [
       "<div>\n",
       "<style scoped>\n",
       "    .dataframe tbody tr th:only-of-type {\n",
       "        vertical-align: middle;\n",
       "    }\n",
       "\n",
       "    .dataframe tbody tr th {\n",
       "        vertical-align: top;\n",
       "    }\n",
       "\n",
       "    .dataframe thead th {\n",
       "        text-align: right;\n",
       "    }\n",
       "</style>\n",
       "<table border=\"1\" class=\"dataframe\">\n",
       "  <thead>\n",
       "    <tr style=\"text-align: right;\">\n",
       "      <th></th>\n",
       "      <th>user_id</th>\n",
       "      <th>sent_date</th>\n",
       "      <th>sent</th>\n",
       "      <th>deliver</th>\n",
       "      <th>open</th>\n",
       "      <th>click</th>\n",
       "      <th>count_of_contact</th>\n",
       "    </tr>\n",
       "  </thead>\n",
       "  <tbody>\n",
       "    <tr>\n",
       "      <th>4</th>\n",
       "      <td>z4d813du</td>\n",
       "      <td>2024-01-11</td>\n",
       "      <td>1</td>\n",
       "      <td>1</td>\n",
       "      <td>0</td>\n",
       "      <td>0</td>\n",
       "      <td>1</td>\n",
       "    </tr>\n",
       "    <tr>\n",
       "      <th>16</th>\n",
       "      <td>1e37uz47</td>\n",
       "      <td>2024-01-23</td>\n",
       "      <td>1</td>\n",
       "      <td>1</td>\n",
       "      <td>1</td>\n",
       "      <td>0</td>\n",
       "      <td>1</td>\n",
       "    </tr>\n",
       "    <tr>\n",
       "      <th>17</th>\n",
       "      <td>83c8510u</td>\n",
       "      <td>2024-01-23</td>\n",
       "      <td>1</td>\n",
       "      <td>1</td>\n",
       "      <td>1</td>\n",
       "      <td>0</td>\n",
       "      <td>1</td>\n",
       "    </tr>\n",
       "    <tr>\n",
       "      <th>21</th>\n",
       "      <td>65d88z5e</td>\n",
       "      <td>2024-01-23</td>\n",
       "      <td>1</td>\n",
       "      <td>1</td>\n",
       "      <td>1</td>\n",
       "      <td>0</td>\n",
       "      <td>2</td>\n",
       "    </tr>\n",
       "    <tr>\n",
       "      <th>30</th>\n",
       "      <td>4d57777u</td>\n",
       "      <td>2024-01-23</td>\n",
       "      <td>1</td>\n",
       "      <td>1</td>\n",
       "      <td>0</td>\n",
       "      <td>0</td>\n",
       "      <td>1</td>\n",
       "    </tr>\n",
       "    <tr>\n",
       "      <th>...</th>\n",
       "      <td>...</td>\n",
       "      <td>...</td>\n",
       "      <td>...</td>\n",
       "      <td>...</td>\n",
       "      <td>...</td>\n",
       "      <td>...</td>\n",
       "      <td>...</td>\n",
       "    </tr>\n",
       "    <tr>\n",
       "      <th>4984</th>\n",
       "      <td>CRMid000</td>\n",
       "      <td>2024-03-27</td>\n",
       "      <td>1</td>\n",
       "      <td>1</td>\n",
       "      <td>0</td>\n",
       "      <td>0</td>\n",
       "      <td>41</td>\n",
       "    </tr>\n",
       "    <tr>\n",
       "      <th>4989</th>\n",
       "      <td>CRMid005</td>\n",
       "      <td>2024-03-27</td>\n",
       "      <td>1</td>\n",
       "      <td>1</td>\n",
       "      <td>0</td>\n",
       "      <td>0</td>\n",
       "      <td>11</td>\n",
       "    </tr>\n",
       "    <tr>\n",
       "      <th>4992</th>\n",
       "      <td>CRMid004</td>\n",
       "      <td>2024-03-27</td>\n",
       "      <td>1</td>\n",
       "      <td>1</td>\n",
       "      <td>0</td>\n",
       "      <td>0</td>\n",
       "      <td>27</td>\n",
       "    </tr>\n",
       "    <tr>\n",
       "      <th>4993</th>\n",
       "      <td>CRMid004</td>\n",
       "      <td>2024-03-27</td>\n",
       "      <td>1</td>\n",
       "      <td>1</td>\n",
       "      <td>0</td>\n",
       "      <td>0</td>\n",
       "      <td>27</td>\n",
       "    </tr>\n",
       "    <tr>\n",
       "      <th>4995</th>\n",
       "      <td>CRMid005</td>\n",
       "      <td>2024-03-27</td>\n",
       "      <td>1</td>\n",
       "      <td>1</td>\n",
       "      <td>0</td>\n",
       "      <td>0</td>\n",
       "      <td>11</td>\n",
       "    </tr>\n",
       "  </tbody>\n",
       "</table>\n",
       "<p>1741 rows × 7 columns</p>\n",
       "</div>"
      ],
      "text/plain": [
       "       user_id  sent_date  sent  deliver  open  click  count_of_contact\n",
       "4     z4d813du 2024-01-11     1        1     0      0                 1\n",
       "16    1e37uz47 2024-01-23     1        1     1      0                 1\n",
       "17    83c8510u 2024-01-23     1        1     1      0                 1\n",
       "21    65d88z5e 2024-01-23     1        1     1      0                 2\n",
       "30    4d57777u 2024-01-23     1        1     0      0                 1\n",
       "...        ...        ...   ...      ...   ...    ...               ...\n",
       "4984  CRMid000 2024-03-27     1        1     0      0                41\n",
       "4989  CRMid005 2024-03-27     1        1     0      0                11\n",
       "4992  CRMid004 2024-03-27     1        1     0      0                27\n",
       "4993  CRMid004 2024-03-27     1        1     0      0                27\n",
       "4995  CRMid005 2024-03-27     1        1     0      0                11\n",
       "\n",
       "[1741 rows x 7 columns]"
      ]
     },
     "execution_count": 31,
     "metadata": {},
     "output_type": "execute_result"
    }
   ],
   "source": [
    "new_data"
   ]
  },
  {
   "cell_type": "code",
   "execution_count": 33,
   "id": "baa9adf8",
   "metadata": {},
   "outputs": [
    {
     "name": "stderr",
     "output_type": "stream",
     "text": [
      "/var/folders/qj/78y5g6q55fgg3z8sg3lhzsxh0000gn/T/ipykernel_66844/1326055898.py:4: SettingWithCopyWarning: \n",
      "A value is trying to be set on a copy of a slice from a DataFrame.\n",
      "Try using .loc[row_indexer,col_indexer] = value instead\n",
      "\n",
      "See the caveats in the documentation: https://pandas.pydata.org/pandas-docs/stable/user_guide/indexing.html#returning-a-view-versus-a-copy\n",
      "  new_data['contact_range'] = pd.cut(new_data['count_of_contact'], bins=bins, labels=labels)\n"
     ]
    }
   ],
   "source": [
    "bins = [0, 2, 10, float('inf')]  \n",
    "labels = ['1-2', '3-10', '>11']\n",
    "\n",
    "new_data['contact_range'] = pd.cut(new_data['count_of_contact'], bins=bins, labels=labels)"
   ]
  },
  {
   "cell_type": "code",
   "execution_count": 35,
   "id": "228c57b1",
   "metadata": {},
   "outputs": [],
   "source": [
    "unique_users = new_data.groupby('contact_range').agg({'user_id':'nunique'})"
   ]
  },
  {
   "cell_type": "code",
   "execution_count": 36,
   "id": "2cd12442",
   "metadata": {},
   "outputs": [
    {
     "data": {
      "text/html": [
       "<div>\n",
       "<style scoped>\n",
       "    .dataframe tbody tr th:only-of-type {\n",
       "        vertical-align: middle;\n",
       "    }\n",
       "\n",
       "    .dataframe tbody tr th {\n",
       "        vertical-align: top;\n",
       "    }\n",
       "\n",
       "    .dataframe thead th {\n",
       "        text-align: right;\n",
       "    }\n",
       "</style>\n",
       "<table border=\"1\" class=\"dataframe\">\n",
       "  <thead>\n",
       "    <tr style=\"text-align: right;\">\n",
       "      <th></th>\n",
       "      <th>user_id</th>\n",
       "    </tr>\n",
       "    <tr>\n",
       "      <th>contact_range</th>\n",
       "      <th></th>\n",
       "    </tr>\n",
       "  </thead>\n",
       "  <tbody>\n",
       "    <tr>\n",
       "      <th>1-2</th>\n",
       "      <td>375</td>\n",
       "    </tr>\n",
       "    <tr>\n",
       "      <th>3-10</th>\n",
       "      <td>8</td>\n",
       "    </tr>\n",
       "    <tr>\n",
       "      <th>&gt;11</th>\n",
       "      <td>5</td>\n",
       "    </tr>\n",
       "  </tbody>\n",
       "</table>\n",
       "</div>"
      ],
      "text/plain": [
       "               user_id\n",
       "contact_range         \n",
       "1-2                375\n",
       "3-10                 8\n",
       ">11                  5"
      ]
     },
     "execution_count": 36,
     "metadata": {},
     "output_type": "execute_result"
    }
   ],
   "source": [
    "unique_users"
   ]
  },
  {
   "cell_type": "code",
   "execution_count": 39,
   "id": "081f8970",
   "metadata": {},
   "outputs": [
    {
     "data": {
      "image/png": "[encoded data removed]",
      "text/plain": [
       "<Figure size 800x500 with 1 Axes>"
      ]
     },
     "metadata": {},
     "output_type": "display_data"
    }
   ],
   "source": [
    "\n",
    "plt.figure(figsize=(8, 5))\n",
    "sns.barplot(x=unique_users.index, y=unique_users['user_id'], palette='coolwarm')\n",
    "\n",
    "\n",
    "plt.title('Количество врачей получивших 1-2, 3-10, 11 и более контактов')\n",
    "plt.xlabel('Диапазон контактов')\n",
    "plt.ylabel('Количество врачей')\n",
    "plt.xticks(rotation=45)\n",
    "plt.grid(axis='y', linestyle='--', alpha=0.7)\n",
    "\n",
    "\n",
    "plt.show()\n"
   ]
  },
  {
   "cell_type": "markdown",
   "id": "efbdadfa",
   "metadata": {},
   "source": [
    "Судя по графику наибольшее количество врачей получило от 1 до 2 откликов "
   ]
  },
  {
   "cell_type": "markdown",
   "id": "2579794c",
   "metadata": {},
   "source": [
    "! так же можно было бы посчитать конверсию получения контактов, а так же понять связанно ли количество отправленных писем с количеством полученных контактов "
   ]
  },
  {
   "cell_type": "markdown",
   "id": "93227961",
   "metadata": {},
   "source": [
    "# 6. Как выглядел бы sql запрос для получения ответа на вопрос 3\n"
   ]
  },
  {
   "cell_type": "code",
   "execution_count": 40,
   "id": "018e725d",
   "metadata": {},
   "outputs": [
    {
     "data": {
      "text/html": [
       "<div>\n",
       "<style scoped>\n",
       "    .dataframe tbody tr th:only-of-type {\n",
       "        vertical-align: middle;\n",
       "    }\n",
       "\n",
       "    .dataframe tbody tr th {\n",
       "        vertical-align: top;\n",
       "    }\n",
       "\n",
       "    .dataframe thead th {\n",
       "        text-align: right;\n",
       "    }\n",
       "</style>\n",
       "<table border=\"1\" class=\"dataframe\">\n",
       "  <thead>\n",
       "    <tr style=\"text-align: right;\">\n",
       "      <th></th>\n",
       "      <th>user_id</th>\n",
       "      <th>sent_date</th>\n",
       "      <th>sent</th>\n",
       "      <th>deliver</th>\n",
       "      <th>open</th>\n",
       "      <th>click</th>\n",
       "      <th>count_of_contact</th>\n",
       "    </tr>\n",
       "  </thead>\n",
       "  <tbody>\n",
       "    <tr>\n",
       "      <th>0</th>\n",
       "      <td>6c6c49z9</td>\n",
       "      <td>2024-01-10</td>\n",
       "      <td>1</td>\n",
       "      <td>1</td>\n",
       "      <td>0</td>\n",
       "      <td>0</td>\n",
       "      <td>0</td>\n",
       "    </tr>\n",
       "    <tr>\n",
       "      <th>1</th>\n",
       "      <td>1460611e</td>\n",
       "      <td>2024-01-10</td>\n",
       "      <td>1</td>\n",
       "      <td>1</td>\n",
       "      <td>0</td>\n",
       "      <td>0</td>\n",
       "      <td>0</td>\n",
       "    </tr>\n",
       "    <tr>\n",
       "      <th>2</th>\n",
       "      <td>ze1u8045</td>\n",
       "      <td>2024-01-11</td>\n",
       "      <td>1</td>\n",
       "      <td>1</td>\n",
       "      <td>0</td>\n",
       "      <td>0</td>\n",
       "      <td>0</td>\n",
       "    </tr>\n",
       "    <tr>\n",
       "      <th>3</th>\n",
       "      <td>410e3668</td>\n",
       "      <td>2024-01-11</td>\n",
       "      <td>1</td>\n",
       "      <td>1</td>\n",
       "      <td>0</td>\n",
       "      <td>0</td>\n",
       "      <td>0</td>\n",
       "    </tr>\n",
       "    <tr>\n",
       "      <th>4</th>\n",
       "      <td>z4d813du</td>\n",
       "      <td>2024-01-11</td>\n",
       "      <td>1</td>\n",
       "      <td>1</td>\n",
       "      <td>0</td>\n",
       "      <td>0</td>\n",
       "      <td>1</td>\n",
       "    </tr>\n",
       "    <tr>\n",
       "      <th>...</th>\n",
       "      <td>...</td>\n",
       "      <td>...</td>\n",
       "      <td>...</td>\n",
       "      <td>...</td>\n",
       "      <td>...</td>\n",
       "      <td>...</td>\n",
       "      <td>...</td>\n",
       "    </tr>\n",
       "    <tr>\n",
       "      <th>4994</th>\n",
       "      <td>5e00ce3c</td>\n",
       "      <td>2024-03-27</td>\n",
       "      <td>1</td>\n",
       "      <td>1</td>\n",
       "      <td>0</td>\n",
       "      <td>0</td>\n",
       "      <td>0</td>\n",
       "    </tr>\n",
       "    <tr>\n",
       "      <th>4995</th>\n",
       "      <td>CRMid005</td>\n",
       "      <td>2024-03-27</td>\n",
       "      <td>1</td>\n",
       "      <td>1</td>\n",
       "      <td>0</td>\n",
       "      <td>0</td>\n",
       "      <td>11</td>\n",
       "    </tr>\n",
       "    <tr>\n",
       "      <th>4996</th>\n",
       "      <td>d6ze4339</td>\n",
       "      <td>2024-03-29</td>\n",
       "      <td>1</td>\n",
       "      <td>1</td>\n",
       "      <td>0</td>\n",
       "      <td>0</td>\n",
       "      <td>0</td>\n",
       "    </tr>\n",
       "    <tr>\n",
       "      <th>4997</th>\n",
       "      <td>c9e4e717</td>\n",
       "      <td>2024-03-30</td>\n",
       "      <td>1</td>\n",
       "      <td>1</td>\n",
       "      <td>0</td>\n",
       "      <td>0</td>\n",
       "      <td>0</td>\n",
       "    </tr>\n",
       "    <tr>\n",
       "      <th>4998</th>\n",
       "      <td>c388686u</td>\n",
       "      <td>2024-03-30</td>\n",
       "      <td>1</td>\n",
       "      <td>1</td>\n",
       "      <td>0</td>\n",
       "      <td>0</td>\n",
       "      <td>0</td>\n",
       "    </tr>\n",
       "  </tbody>\n",
       "</table>\n",
       "<p>4999 rows × 7 columns</p>\n",
       "</div>"
      ],
      "text/plain": [
       "       user_id  sent_date  sent  deliver  open  click  count_of_contact\n",
       "0     6c6c49z9 2024-01-10     1        1     0      0                 0\n",
       "1     1460611e 2024-01-10     1        1     0      0                 0\n",
       "2     ze1u8045 2024-01-11     1        1     0      0                 0\n",
       "3     410e3668 2024-01-11     1        1     0      0                 0\n",
       "4     z4d813du 2024-01-11     1        1     0      0                 1\n",
       "...        ...        ...   ...      ...   ...    ...               ...\n",
       "4994  5e00ce3c 2024-03-27     1        1     0      0                 0\n",
       "4995  CRMid005 2024-03-27     1        1     0      0                11\n",
       "4996  d6ze4339 2024-03-29     1        1     0      0                 0\n",
       "4997  c9e4e717 2024-03-30     1        1     0      0                 0\n",
       "4998  c388686u 2024-03-30     1        1     0      0                 0\n",
       "\n",
       "[4999 rows x 7 columns]"
      ]
     },
     "execution_count": 40,
     "metadata": {},
     "output_type": "execute_result"
    }
   ],
   "source": [
    "data"
   ]
  },
  {
   "cell_type": "markdown",
   "id": "f1dee22e",
   "metadata": {},
   "source": [
    "SELECT AVG(CLICK)\n",
    "FROM DATA\n",
    "GROUP BY USER_ID "
   ]
  },
  {
   "cell_type": "code",
   "execution_count": null,
   "id": "fa0750a1",
   "metadata": {},
   "outputs": [],
   "source": []
  },
  {
   "cell_type": "code",
   "execution_count": null,
   "id": "0339d198",
   "metadata": {},
   "outputs": [],
   "source": []
  }
 ],
 "metadata": {
  "kernelspec": {
   "display_name": "Python 3 (ipykernel)",
   "language": "python",
   "name": "python3"
  },
  "language_info": {
   "codemirror_mode": {
    "name": "ipython",
    "version": 3
   },
   "file_extension": ".py",
   "mimetype": "text/x-python",
   "name": "python",
   "nbconvert_exporter": "python",
   "pygments_lexer": "ipython3",
   "version": "3.9.15"
  }
 },
 "nbformat": 4,
 "nbformat_minor": 5
}
